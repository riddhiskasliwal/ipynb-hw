{
 "cells": [
  {
   "cell_type": "markdown",
   "metadata": {},
   "source": [
    "# Assignment 5\n",
    "\n",
    "This assignment has weighting $1.5$."
   ]
  },
  {
   "cell_type": "markdown",
   "metadata": {
    "slideshow": {
     "slide_type": "slide"
    }
   },
   "source": [
    "# Model tuning and evaluation"
   ]
  },
  {
   "cell_type": "code",
   "execution_count": 63,
   "metadata": {
    "collapsed": true,
    "slideshow": {
     "slide_type": "skip"
    }
   },
   "outputs": [],
   "source": [
    "# Added version check for recent scikit-learn 0.18 checks\n",
    "from distutils.version import LooseVersion as Version\n",
    "from sklearn import __version__ as sklearn_version"
   ]
  },
  {
   "cell_type": "markdown",
   "metadata": {
    "slideshow": {
     "slide_type": "slide"
    }
   },
   "source": [
    "## Dataset\n",
    "\n",
    "We will use the Wisconsin breast cancer dataset for the following questions"
   ]
  },
  {
   "cell_type": "code",
   "execution_count": 64,
   "metadata": {
    "collapsed": false,
    "slideshow": {
     "slide_type": "fragment"
    }
   },
   "outputs": [],
   "source": [
    "import pandas as pd\n",
    "\n",
    "#wdbc_source = 'https://archive.ics.uci.edu/ml/machine-learning-databases/breast-cancer-wisconsin/wdbc.data'\n",
    "wdbc_source = '../datasets/wdbc/wdbc.data'\n",
    "\n",
    "df = pd.read_csv(wdbc_source, header=None)"
   ]
  },
  {
   "cell_type": "code",
   "execution_count": 65,
   "metadata": {
    "collapsed": false,
    "slideshow": {
     "slide_type": "fragment"
    }
   },
   "outputs": [
    {
     "data": {
      "text/plain": [
       "array([1, 0], dtype=int64)"
      ]
     },
     "execution_count": 65,
     "metadata": {},
     "output_type": "execute_result"
    }
   ],
   "source": [
    "from sklearn.preprocessing import LabelEncoder\n",
    "X = df.loc[:, 2:].values\n",
    "y = df.loc[:, 1].values\n",
    "le = LabelEncoder()\n",
    "y = le.fit_transform(y)\n",
    "le.transform(['M', 'B'])"
   ]
  },
  {
   "cell_type": "code",
   "execution_count": 66,
   "metadata": {
    "collapsed": false,
    "slideshow": {
     "slide_type": "fragment"
    }
   },
   "outputs": [],
   "source": [
    "if Version(sklearn_version) < '0.18':\n",
    "    from sklearn.cross_validation import train_test_split\n",
    "else:\n",
    "    from sklearn.model_selection import train_test_split\n",
    "\n",
    "X_train, X_test, y_train, y_test = \\\n",
    "    train_test_split(X, y, test_size=0.20, random_state=1)"
   ]
  },
  {
   "cell_type": "code",
   "execution_count": 67,
   "metadata": {
    "collapsed": true,
    "slideshow": {
     "slide_type": "skip"
    }
   },
   "outputs": [],
   "source": [
    "%matplotlib inline"
   ]
  },
  {
   "cell_type": "markdown",
   "metadata": {
    "slideshow": {
     "slide_type": "slide"
    }
   },
   "source": [
    "# K-fold validation (20 points)\n",
    "\n",
    "Someone wrote the code below to conduct cross validation.\n",
    "Do you see anything wrong with it?\n",
    "And if so, correct the code and provide an explanation."
   ]
  },
  {
   "cell_type": "markdown",
   "metadata": {
    "slideshow": {
     "slide_type": "subslide"
    }
   },
   "source": [
    "## Answer\n",
    "\n",
    "In the original code, partial_fit was used which fits on trained data and therefore would not give accurate results. Therefore, the in the corrected code, partial_fit was changed to fit. And a pipeline for the required methods to be done for each fold was made. \n",
    "Also, since there were two loops, inner loop is expected to find the correct hyper parameters and the outer loop should train with the optimal parameters. \n",
    "But this result was not achieved since the training happened in the inner loop. Therefore, grid search method is used to find hyper parameters and K-fold cross validation is used to divide the model into training and testing sets and then train the model using optimal parameters.  \n"
   ]
  },
  {
   "cell_type": "code",
   "execution_count": 68,
   "metadata": {
    "collapsed": false,
    "scrolled": false,
    "slideshow": {
     "slide_type": "fragment"
    }
   },
   "outputs": [
    {
     "name": "stdout",
     "output_type": "stream",
     "text": [
      "Fold: 1, Class dist.: [256 153], Acc: 0.891\n",
      "Fold: 2, Class dist.: [256 153], Acc: 0.978\n",
      "Fold: 3, Class dist.: [256 153], Acc: 0.957\n",
      "Fold: 4, Class dist.: [256 153], Acc: 0.935\n",
      "Fold: 5, Class dist.: [256 153], Acc: 0.978\n",
      "Fold: 6, Class dist.: [257 153], Acc: 1.000\n",
      "Fold: 7, Class dist.: [257 153], Acc: 0.956\n",
      "Fold: 8, Class dist.: [257 153], Acc: 0.978\n",
      "Fold: 9, Class dist.: [257 153], Acc: 0.978\n",
      "Fold: 10, Class dist.: [257 153], Acc: 0.978\n",
      "\n",
      "CV accuracy: 0.963 +/- 0.029\n"
     ]
    }
   ],
   "source": [
    "import numpy as np\n",
    "import copy\n",
    "from sklearn.preprocessing import StandardScaler\n",
    "from sklearn.cross_validation import cross_val_score\n",
    "from sklearn.linear_model import Perceptron\n",
    "from sklearn.pipeline import Pipeline\n",
    "from sklearn.grid_search import GridSearchCV\n",
    "\n",
    "if Version(sklearn_version) < '0.18':\n",
    "    from sklearn.cross_validation import StratifiedKFold\n",
    "else:\n",
    "    from sklearn.model_selection import StratifiedKFold\n",
    "\n",
    "pipe_p = Pipeline([('scl', StandardScaler()),\n",
    "                    ('clf', Perceptron(random_state=1))])\n",
    "\n",
    "if Version(sklearn_version) < '0.18':\n",
    "    kfold = StratifiedKFold(y=y_train, \n",
    "                            n_folds=10,\n",
    "                            random_state=1)\n",
    "else:\n",
    "    kfold = StratifiedKFold(n_splits=10,\n",
    "                            random_state=1).split(X_train, y_train)\n",
    "\n",
    "num_epochs = 2\n",
    "param_grid = [{'clf__random_state': [1]}]\n",
    "\n",
    "gs = GridSearchCV(estimator=pipe_p,\n",
    "                  param_grid = param_grid,\n",
    "                  cv=num_epochs)\n",
    "\n",
    "scores = []\n",
    "for k, (train, test) in enumerate(kfold):\n",
    "    gs.fit(X_train[train], y_train[train])\n",
    "    score = gs.score(X_train[test], y_train[test])\n",
    "    scores.append(score)\n",
    "    print('Fold: %s, Class dist.: %s, Acc: %.3f' % (k+1,\n",
    "          np.bincount(y_train[train]), score))\n",
    "    \n",
    "print('\\nCV accuracy: %.3f +/- %.3f' % (np.mean(scores), np.std(scores)))"
   ]
  },
  {
   "cell_type": "markdown",
   "metadata": {
    "slideshow": {
     "slide_type": "slide"
    }
   },
   "source": [
    "# Precision-recall curve (40 points)\n",
    "\n",
    "We have plotted ROC (receiver operator characteristics) curve for the breast cancer dataset.\n",
    "\n",
    "Plot the precision-recall curve for the same data set using the same experimental setup.\n",
    "What similarities and differences you can find between ROC and precision-recall curves?\n",
    "\n",
    "You can find more information about precision-recall curve online such as: http://scikit-learn.org/stable/modules/generated/sklearn.metrics.precision_recall_curve.html"
   ]
  },
  {
   "cell_type": "markdown",
   "metadata": {
    "slideshow": {
     "slide_type": "subslide"
    }
   },
   "source": [
    "# Answer"
   ]
  },
  {
   "cell_type": "markdown",
   "metadata": {
    "slideshow": {
     "slide_type": "fragment"
    }
   },
   "source": [
    "## Explaination\n",
    "The graphs for ROC and Precision-Recall have opposite slopes. The perfect performance for Precision and Recall and ROC can be compared by the horizontal straight line. Both the graphs have sharp ups and downs."
   ]
  },
  {
   "cell_type": "code",
   "execution_count": 69,
   "metadata": {
    "collapsed": false,
    "slideshow": {
     "slide_type": "fragment"
    }
   },
   "outputs": [],
   "source": [
    "import numpy as np\n",
    "from sklearn.metrics import precision_recall_curve, auc\n",
    "\n",
    "y_truth = np.array([0, 0, 1, 1])\n",
    "\n",
    "#y_score = np.array([0, 0, 1, 1]) # completely right\n",
    "y_score = np.array([0.1, 0.4, 0.35, 0.8]) # partially right\n",
    "#y_score = np.array([1, 1, 0, 0]) # completely wrong"
   ]
  },
  {
   "cell_type": "code",
   "execution_count": 85,
   "metadata": {
    "collapsed": false
   },
   "outputs": [
    {
     "data": {
      "image/png": "[encoded data removed]",
      "text/plain": [
       "<matplotlib.figure.Figure at 0x6353c88>"
      ]
     },
     "metadata": {},
     "output_type": "display_data"
    }
   ],
   "source": [
    "from sklearn.metrics import precision_recall_curve, auc\n",
    "from scipy import interp\n",
    "from sklearn.linear_model import LogisticRegression\n",
    "from sklearn.preprocessing import StandardScaler\n",
    "from sklearn.decomposition import PCA\n",
    "\n",
    "pipe_lr = Pipeline([('scl', StandardScaler()),\n",
    "                    ('pca', PCA(n_components=2)),\n",
    "                    ('clf', LogisticRegression(penalty='l2', \n",
    "                                               random_state=0, \n",
    "                                               C=100.0))])\n",
    "\n",
    "# intentionally use only 2 features to make the task harder and the curves more interesting\n",
    "X_train2 = X_train[:, [4, 14]]\n",
    "X_test2 = X_test[:, [4, 14]]\n",
    "\n",
    "cv = StratifiedKFold(y_train, \n",
    "                         n_folds=3, \n",
    "                         random_state=1)\n",
    "\n",
    "fig = plt.figure(figsize=(7, 5))\n",
    "\n",
    "mean_recall = 0.0\n",
    "mean_precision = np.linspace(0, 1, 100)\n",
    "all_recall = []\n",
    "\n",
    "for i, (train, test) in enumerate(cv):\n",
    "    probas = pipe_lr.fit(X_train2[train],\n",
    "                         y_train[train]).predict_proba(X_train2[test])\n",
    "\n",
    "    precision, recall, thresholds = precision_recall_curve(y_train[test],\n",
    "                                     probas[:, 1],\n",
    "                                     pos_label=1)\n",
    "    mean_recall += interp(mean_precision, precision, recall)\n",
    "    #mean_tpr[0] = 0.0\n",
    "    prc_auc = auc(recall, precision)\n",
    "    plt.plot(recall,\n",
    "             precision,\n",
    "             lw=1,\n",
    "             label='Precision Recall Curve fold %d (area = %0.2f)'\n",
    "                   % (i+1, prc_auc))\n",
    "\n",
    "plt.plot([1, 0],\n",
    "         [1, 0],\n",
    "         linestyle='--',\n",
    "         color=(0.6, 0.6, 0.6),\n",
    "         label='Random Guessing')\n",
    "\n",
    "mean_recall /= len(cv)\n",
    "mean_recall[0] = 0.0\n",
    "mean_recall[-1] = 1.0\n",
    "mean_auc = auc(mean_precision, mean_recall)\n",
    "plt.plot(mean_recall, mean_precision, 'k--',\n",
    "         label='mean PRC (area = %0.2f)' % mean_auc, lw=2)\n",
    "plt.plot([0, 1, 1],\n",
    "         [1, 1, 0],\n",
    "         lw=2,\n",
    "         linestyle=':',\n",
    "         color='black',\n",
    "         label='Perfect Performance')\n",
    "\n",
    "plt.xlim([-0.05, 1.05])\n",
    "plt.ylim([-0.05, 1.05])\n",
    "plt.xlabel('Recall')\n",
    "plt.ylabel('Precision')\n",
    "plt.title('precision-recall curve')\n",
    "plt.legend(loc=\"lower left\")\n",
    "\n",
    "plt.tight_layout()\n",
    "# plt.savefig('./figures/roc.png', dpi=300)\n",
    "plt.show()"
   ]
  },
  {
   "cell_type": "markdown",
   "metadata": {
    "slideshow": {
     "slide_type": "slide"
    }
   },
   "source": [
    "# Ensemble learning\n",
    "\n",
    "We have used the following code to compute and plot the ensemble error from individual classifiers for binary classification:"
   ]
  },
  {
   "cell_type": "code",
   "execution_count": 71,
   "metadata": {
    "collapsed": false,
    "slideshow": {
     "slide_type": "fragment"
    }
   },
   "outputs": [],
   "source": [
    "from scipy.misc import comb\n",
    "import math\n",
    "import numpy as np\n",
    "\n",
    "def ensemble_error(num_classifier, base_error):\n",
    "    k_start = math.ceil(num_classifier/2)\n",
    "    probs = [comb(num_classifier, k)*(base_error**k)*((1-base_error)**(num_classifier-k)) for k in range(k_start, num_classifier+1)]\n",
    "    return sum(probs)"
   ]
  },
  {
   "cell_type": "code",
   "execution_count": 72,
   "metadata": {
    "collapsed": true,
    "slideshow": {
     "slide_type": "fragment"
    }
   },
   "outputs": [],
   "source": [
    "import matplotlib.pyplot as plt\n",
    "%matplotlib inline"
   ]
  },
  {
   "cell_type": "code",
   "execution_count": 73,
   "metadata": {
    "collapsed": true,
    "slideshow": {
     "slide_type": "fragment"
    }
   },
   "outputs": [],
   "source": [
    "def plot_base_error(ensemble_error_func, num_classifier, error_delta):\n",
    "\n",
    "    error_range = np.arange(0.0, 1+error_delta, error_delta)\n",
    "    ensemble_errors = [ensemble_error_func(num_classifier=num_classifier, base_error=error) for error in error_range]\n",
    "\n",
    "    plt.plot(error_range, ensemble_errors, \n",
    "             label = 'ensemble error',\n",
    "             linewidth=2)\n",
    "    plt.plot(error_range, error_range,\n",
    "             label = 'base error',\n",
    "             linestyle = '--',\n",
    "             linewidth=2)\n",
    "    plt.xlabel('base error')\n",
    "    plt.ylabel('base/ensemble error')\n",
    "    plt.legend(loc='best')\n",
    "    plt.grid()\n",
    "    plt.show()"
   ]
  },
  {
   "cell_type": "code",
   "execution_count": 74,
   "metadata": {
    "collapsed": true,
    "slideshow": {
     "slide_type": "fragment"
    }
   },
   "outputs": [],
   "source": [
    "num_classifier = 11\n",
    "error_delta = 0.01\n",
    "base_error = 0.25"
   ]
  },
  {
   "cell_type": "code",
   "execution_count": 75,
   "metadata": {
    "collapsed": false,
    "slideshow": {
     "slide_type": "fragment"
    }
   },
   "outputs": [
    {
     "name": "stdout",
     "output_type": "stream",
     "text": [
      "0.034327507019\n"
     ]
    }
   ],
   "source": [
    "\n",
    "print(ensemble_error(num_classifier=num_classifier, base_error=base_error))\n"
   ]
  },
  {
   "cell_type": "code",
   "execution_count": 76,
   "metadata": {
    "collapsed": false,
    "slideshow": {
     "slide_type": "fragment"
    }
   },
   "outputs": [
    {
     "data": {
      "image/png": "[encoded data removed]",
      "text/plain": [
       "<matplotlib.figure.Figure at 0xada9e10>"
      ]
     },
     "metadata": {},
     "output_type": "display_data"
    }
   ],
   "source": [
    "plot_base_error(ensemble_error, num_classifier=num_classifier, error_delta=error_delta)"
   ]
  },
  {
   "cell_type": "markdown",
   "metadata": {
    "slideshow": {
     "slide_type": "fragment"
    }
   },
   "source": [
    "# Number of classifiers (40 points)\n",
    "\n",
    "The function plot_base_error() above plots the ensemble error as a function of the base error given a fixed number of classifiers.\n",
    "\n",
    "Write another function to plot ensembe error versus different number of classifiers with a given base error.\n",
    "\n",
    "Does the ensemble error always go down with more classifiers? \n",
    "Why or why not?\n",
    "\n",
    "Can you improve the method ensemble_error() to produce a more reasonable plot?"
   ]
  },
  {
   "cell_type": "markdown",
   "metadata": {
    "slideshow": {
     "slide_type": "subslide"
    }
   },
   "source": [
    "## Answer\n",
    "\n",
    "The code for plotting is below:"
   ]
  },
  {
   "cell_type": "code",
   "execution_count": 77,
   "metadata": {
    "collapsed": false,
    "slideshow": {
     "slide_type": "fragment"
    }
   },
   "outputs": [],
   "source": [
    "def plot_num_classifier(ensemble_error_func, max_num_classifier, base_error):\n",
    "    num_range = np.arange(1, 1+max_num_classifier, 1)\n",
    "    ensemble_errors = [ensemble_error_func(num_classifier=classifier, base_error=base_error) for classifier in num_range]\n",
    "    plt.plot(num_range, ensemble_errors, \n",
    "             label = 'ensemble error',\n",
    "             linewidth=2)\n",
    "    plt.xlabel('num classifier')\n",
    "    plt.ylabel('base/ensemble error')\n",
    "    plt.legend(loc='best')\n",
    "    plt.grid()\n",
    "    plt.show()"
   ]
  },
  {
   "cell_type": "markdown",
   "metadata": {
    "slideshow": {
     "slide_type": "fragment"
    }
   },
   "source": [
    "## Observations\n",
    "When the base error is less than 0.5, the ensemble error sees a downhill trend. But when the base error is 0.5, the ensemble error does not go below 0.5. When the base error is 0.75, the ensemble error values increase with the increase in number of classifiers. So the base error is a really important factor to determine the ensemble error's behaviour. \n",
    "Therefore, it is clear that the ensemble error does not always go down with increase in the number of classifiers. This is because if the number of classifiers increase but all of them have 3/4th chances of being wrong, then overall there will be higher chance of the majority of the classifiers predicting wrong results. "
   ]
  },
  {
   "cell_type": "code",
   "execution_count": 78,
   "metadata": {
    "collapsed": true,
    "slideshow": {
     "slide_type": "fragment"
    }
   },
   "outputs": [],
   "source": [
    "max_num_classifiers = 20\n",
    "base_error = 0.3"
   ]
  },
  {
   "cell_type": "code",
   "execution_count": 79,
   "metadata": {
    "collapsed": false,
    "slideshow": {
     "slide_type": "fragment"
    }
   },
   "outputs": [
    {
     "data": {
      "image/png": "[encoded data removed]",
      "text/plain": [
       "<matplotlib.figure.Figure at 0x64b43c8>"
      ]
     },
     "metadata": {},
     "output_type": "display_data"
    }
   ],
   "source": [
    "plot_num_classifier(ensemble_error, \n",
    "                    max_num_classifier=max_num_classifiers, \n",
    "                    base_error=base_error)"
   ]
  },
  {
   "cell_type": "markdown",
   "metadata": {
    "slideshow": {
     "slide_type": "fragment"
    }
   },
   "source": [
    "Explain your observations above.\n",
    "\n",
    "Describe a better algorithm for computing the ensemble error."
   ]
  },
  {
   "cell_type": "markdown",
   "metadata": {},
   "source": [
    "## Explanation\n",
    "In the above method, we did not take into consideration the 50-50 possiblity of when the number of classifiers are even, probability that the half of the classifiers are wrong is true only half of the times. In the better ensemble error algorithm, this is taken into consideration and therefore, there is a smoother curve for the ensemble error. "
   ]
  },
  {
   "cell_type": "code",
   "execution_count": 80,
   "metadata": {
    "collapsed": true,
    "slideshow": {
     "slide_type": "fragment"
    }
   },
   "outputs": [],
   "source": [
    "def better_ensemble_error(num_classifier, base_error):\n",
    "    # replace the following default line with your implementation of a better algorithm for ensemble error\n",
    "    k_start = math.ceil(num_classifier/2)\n",
    "    probs = []\n",
    "    for k in range(k_start, num_classifier+1):\n",
    "        if (num_classifier%2 == 0 and k==k_start):\n",
    "            probs.append((comb(num_classifier, k)*(base_error**k)*((1-base_error)**(num_classifier-k)))/2)\n",
    "        else:\n",
    "            probs.append((comb(num_classifier, k)*(base_error**k)*((1-base_error)**(num_classifier-k))))\n",
    "    return sum(probs)"
   ]
  },
  {
   "cell_type": "code",
   "execution_count": 81,
   "metadata": {
    "collapsed": false,
    "slideshow": {
     "slide_type": "fragment"
    }
   },
   "outputs": [
    {
     "data": {
      "image/png": "[encoded data removed]",
      "text/plain": [
       "<matplotlib.figure.Figure at 0x63d2358>"
      ]
     },
     "metadata": {},
     "output_type": "display_data"
    }
   ],
   "source": [
    "plot_num_classifier(better_ensemble_error, \n",
    "                    max_num_classifier=max_num_classifiers, \n",
    "                    base_error=base_error)"
   ]
  }
 ],
 "metadata": {
  "anaconda-cloud": {},
  "kernelspec": {
   "display_name": "Python [Root]",
   "language": "python",
   "name": "Python [Root]"
  },
  "language_info": {
   "codemirror_mode": {
    "name": "ipython",
    "version": 3
   },
   "file_extension": ".py",
   "mimetype": "text/x-python",
   "name": "python",
   "nbconvert_exporter": "python",
   "pygments_lexer": "ipython3",
   "version": "3.5.2"
  },
  "name": "_merged"
 },
 "nbformat": 4,
 "nbformat_minor": 0
}
