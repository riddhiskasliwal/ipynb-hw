{
 "cells": [
  {
   "cell_type": "markdown",
   "metadata": {
    "slideshow": {
     "slide_type": "slide"
    }
   },
   "source": [
    "# Machine Learning Tutorial\n",
    "October 14, 2016\n",
    "\n",
    "## Contents\n",
    "\n",
    "1. General suggestions for assignments\n",
    "\n",
    "2. Solutions and common mistakes in assignment #1 and assignment #2\n",
    "\n",
    "3. Math and coding hints for more difficult assignment #3"
   ]
  },
  {
   "cell_type": "markdown",
   "metadata": {
    "slideshow": {
     "slide_type": "slide"
    }
   },
   "source": [
    "# General suggestions for assignments\n",
    "\n",
    "## Overal grading for our class\n",
    "\n",
    "Our class does not have midterm exams, so your final grade depends on two parts, 50% assginments and 50% final exams.\n",
    "While assignments have different degree of workloads, some will cover higher weights. For example, assignment #3 is more difficult than previous ones, and thus has a higher weighting 3 and longer duration (3 weeks). Each one of the previous two assignments has a weighting 1.\n",
    "\n",
    "\n",
    "## Weighting for assignments\n",
    "\n",
    "Future assignments will be added analogously.\n",
    "\n",
    "Assignment weights: $w_1 = 1, w_2 = 1, w_3 = 3$\n",
    "\n",
    "Assignment grades: $g_1, g_2, g_3$\n",
    "\n",
    "Weighted average: $\\frac{1}{\\sum_i w_i} \\times \\sum_i \\left(w_i \\times g_i \\right)$\n",
    "\n",
    "## Your final grades\n",
    "\n",
    "Final exam score: $FinalExam$\n",
    "\n",
    "Final score for ML course: $\\frac{1}{\\sum_i w_i} \\times \\sum_i \\left(w_i \\times g_i \\right)$ $\\times 50\\%$ + $FinalExam \\times 50\\%$\n",
    "\n",
    "## My suggestions\n",
    "\n",
    "Assignments are designed for you to have fun learning Machine Learning, and it plays an important role for your final grades, based on my grading so far, here are my suggestions:\n",
    "\n",
    "+ Please submit your assignments on time.\n",
    "\n",
    "+ Double check whether you submit the correct assignment ipynb file.\n",
    "\n",
    "+ Take a look at my comments and feedback individually each time I release the assignment scores.\n",
    "\n",
    "+ Later I would talk more about some other details and specific suggestions regarding math problems and coding problems based on my grading.\n"
   ]
  },
  {
   "cell_type": "markdown",
   "metadata": {
    "slideshow": {
     "slide_type": "slide"
    }
   },
   "source": [
    "# Common mistakes or problems in assignment #1 and assignment #2\n",
    "\n",
    "I would first talk about the solutions and some common mistakes/problems. "
   ]
  },
  {
   "cell_type": "markdown",
   "metadata": {
    "slideshow": {
     "slide_type": "slide"
    }
   },
   "source": [
    "# Assignment 1 : Warm Up Exercise"
   ]
  },
  {
   "cell_type": "markdown",
   "metadata": {
    "slideshow": {
     "slide_type": "slide"
    }
   },
   "source": [
    "Goal: To learn/review python and ipynb.\n",
    "\n",
    "Grading results: This one is easier, with average score 94."
   ]
  },
  {
   "cell_type": "markdown",
   "metadata": {
    "slideshow": {
     "slide_type": "slide"
    }
   },
   "source": [
    "# Ex1-Solutions\n",
    "## Q1: Implement the sorting algorithm\n",
    "\n",
    "Here I show the bubble sort example"
   ]
  },
  {
   "cell_type": "code",
   "execution_count": 1,
   "metadata": {
    "collapsed": true,
    "slideshow": {
     "slide_type": "fragment"
    }
   },
   "outputs": [],
   "source": [
    "# sorting function (bubble sort)\n",
    "def sort(values):\n",
    "    for i in range(0, len(values)-1):\n",
    "        for j in range(i+1, len(values)):\n",
    "            if(values[i] > values[j]):\n",
    "                #swap\n",
    "                tmp = values[i]\n",
    "                values[i] = values[j]\n",
    "                values[j] = tmp\n",
    "    return values\n",
    "\n",
    "# test function\n",
    "def test(values):\n",
    "    sort(values)\n",
    "\n",
    "    correct = True\n",
    "    for index in range(1, len(values)):\n",
    "        if(values[index-1] > values[index]):\n",
    "            correct = False\n",
    "        \n",
    "    print('Correct? ' + str(correct))"
   ]
  },
  {
   "cell_type": "code",
   "execution_count": 2,
   "metadata": {
    "collapsed": false,
    "slideshow": {
     "slide_type": "fragment"
    }
   },
   "outputs": [
    {
     "name": "stdout",
     "output_type": "stream",
     "text": [
      "Random input array with size 8:  [ 0.12982089  0.20631379  0.68009803  0.89329061  0.23701518  0.173342\n",
      "  0.01141382  0.07097585]\n",
      "Correct? True\n",
      "After bubble sort:  [ 0.01141382  0.07097585  0.12982089  0.173342    0.20631379  0.23701518\n",
      "  0.68009803  0.89329061]\n",
      "Manually input array with size 8:  [-10, 10, 24, 8, 2.8, -0.99, 20, -100]\n",
      "Correct? True\n",
      "After bubble sort:  [-100, -10, -0.99, 2.8, 8, 10, 20, 24]\n"
     ]
    }
   ],
   "source": [
    "import numpy as np\n",
    "# different random seed\n",
    "np.random.seed()\n",
    "\n",
    "N = 8\n",
    "\n",
    "# test input(1): random array\n",
    "valuesR = np.random.random([N])\n",
    "print(\"Random input array with size 8: \", valuesR)\n",
    "\n",
    "test(valuesR)\n",
    "print(\"After bubble sort: \", valuesR)\n",
    "\n",
    "# test input(2): manually input with size N=8\n",
    "valuesM = [-10, 10, 24, 8, 2.8, -0.99, 20, -100]\n",
    "print(\"Manually input array with size 8: \", valuesM)\n",
    "test(valuesM)\n",
    "print(\"After bubble sort: \", valuesM)"
   ]
  },
  {
   "cell_type": "markdown",
   "metadata": {
    "slideshow": {
     "slide_type": "slide"
    }
   },
   "source": [
    "## Q2: Write down explicit formulas for $w_0$ and $w_1$ in terms of $\\mathbf{X}$ and $\\mathbf{T}$."
   ]
  },
  {
   "cell_type": "markdown",
   "metadata": {
    "slideshow": {
     "slide_type": "fragment"
    }
   },
   "source": [
    "From \n",
    "$$\n",
    "\\begin{align}\n",
    "\\frac{\\partial L}{\\partial w_0} & = 0 \\\\\n",
    "\\frac{\\partial L}{\\partial w_1} & = 0\n",
    "\\end{align}\n",
    "$$\n",
    "\n",
    "Then we have:\n",
    "\\begin{align}\n",
    "\\sum_{i=1}^{N} -2 X^{(i)} (T^{(i)}-(w_1 X^{(i)} + w_0)) = 0 \\\\\n",
    "\\sum_{i=1}^{N} -2 (T^{(i)} - (w_1 X^{(i)} + w_0)) = 0\n",
    "\\end{align}\n",
    "\n",
    "Simplify:\n",
    "\n",
    "\\begin{align}\n",
    "(\\sum_{i=1}^{N} (X^{(i)})^2) w_1 + (\\sum_{i=1}^{N} X^{(i)}) w_0 = \\sum_{i=1}^{N} X^{(i)} T^{(i)}\\\\\n",
    "(\\sum_{i=1}^{N} X^{(i)}) w_1 + n w_0 = \\sum_{i=1}^{N} T^{(i)}\n",
    "\\end{align}\n",
    "\n",
    "Then we get:\n",
    "$$\n",
    "\\begin{align}\n",
    "w_1 = \\frac {n \\sum_{i=1}^{N} X^{(i)} T^{(i)} - \\sum_{i=1}^{N} X^{(i)} \\sum_{i=1}^{N} T^{(i)}} {n \\sum_{i=1}^{N} (X^{(i)}) ^ 2 - (\\sum_{i=1}^{N} X^{(i)}) ^ 2}\\\\\n",
    "w_0 = \\frac {1} {n} (\\sum_{i=1}^{N} T^{(i)} - w_1 \\sum_{i=1}^{N} X^{(i)})\n",
    "\\end{align}\n",
    "$$\n",
    "\n"
   ]
  },
  {
   "cell_type": "markdown",
   "metadata": {
    "slideshow": {
     "slide_type": "fragment"
    }
   },
   "source": [
    "Or we could simplify it more:\n",
    "Denote the averages of $\\mathbf{T}$ and $\\mathbf{X}$ as:\n",
    "$$\n",
    "\\begin{align}\n",
    "\\overline{\\mathbf{T}} &= \\frac{\\sum_{i=1}^{N} \\mathbf{T}^{(i)}}{N} \\\\\n",
    "\\overline{\\mathbf{X}} &= \\frac{\\sum_{i=1}^{N} \\mathbf{X}^{(i)}}{N}\n",
    "\\end{align}\n",
    "$$\n",
    "\n",
    "We have\n",
    "$$\n",
    "\\begin{align}\n",
    "w_1 &= \\frac{\\sum_{i=1}^{N} \\mathbf{X}^{(i)} \\left( \\mathbf{T} - \\overline{\\mathbf{T}} \\right) }{\\sum_{i=1}^{N} \\mathbf{X}^{(i)} \\left(\\mathbf{X}^{(i)} - \\overline{\\mathbf{X}} \\right)} \\\\\n",
    "w_0 &= \\overline{\\mathbf{T}} - w_1 \\overline{\\mathbf{X}}\n",
    "\\end{align}\n",
    "$$"
   ]
  },
  {
   "cell_type": "markdown",
   "metadata": {
    "slideshow": {
     "slide_type": "slide"
    }
   },
   "source": [
    "# Q2: Code according to the equations above"
   ]
  },
  {
   "cell_type": "code",
   "execution_count": 3,
   "metadata": {
    "collapsed": true,
    "slideshow": {
     "slide_type": "fragment"
    }
   },
   "outputs": [],
   "source": [
    "# line model\n",
    "import numpy as np\n",
    "\n",
    "class Line(object):\n",
    "    def __init__(self, w0, w1):\n",
    "        self.w0 = w0\n",
    "        self.w1 = w1\n",
    "        \n",
    "    def predict(self, x, noise=0):\n",
    "        return (x*self.w1 + self.w0 + noise*np.random.normal())\n",
    "\n",
    "    # Input: data, a 2D array with each (x, t) pair on a row\n",
    "    # Return: w0 and w1, the intercept and slope of the fitted line\n",
    "    def learn(self, data):\n",
    "        data_mean = np.mean(data, axis=0)\n",
    "        w1 = [0, 0]\n",
    "        for row in data:\n",
    "            w1[1] += row[0]*(row[1] - data_mean[1])\n",
    "            w1[0] += row[0]*(row[0] - data_mean[0])\n",
    "        w1 = w1[1]/w1[0]\n",
    "    \n",
    "        w0 = data_mean[1] - w1*data_mean[0]\n",
    "    \n",
    "        return w0, w1"
   ]
  },
  {
   "cell_type": "code",
   "execution_count": 4,
   "metadata": {
    "collapsed": false,
    "slideshow": {
     "slide_type": "fragment"
    }
   },
   "outputs": [
    {
     "name": "stdout",
     "output_type": "stream",
     "text": [
      "truth:   0.23091654511873982 -0.299117214043213\n",
      "predict: 0.234539586105 -0.307834771478\n"
     ]
    }
   ],
   "source": [
    "# test\n",
    "np.random.seed()\n",
    "\n",
    "w0 = np.asscalar(np.random.random(1))*2-1\n",
    "w1 = np.asscalar(np.random.random(1))*2-1\n",
    "\n",
    "line = Line(w0, w1)\n",
    "\n",
    "N = 30\n",
    "noise = 0.04\n",
    "X = np.random.random([N])\n",
    "T = []\n",
    "for x in X:\n",
    "    T.append(np.sum(line.predict(x, noise)))\n",
    "T = np.array(T)    \n",
    "\n",
    "data = np.array([X, T]).transpose()\n",
    "\n",
    "w0_fit, w1_fit = line.learn(data)\n",
    "\n",
    "line_fit = Line(w0_fit, w1_fit)\n",
    "\n",
    "print('truth:   ' + str(w0) + ' ' + str(w1))\n",
    "print('predict: ' + str(w0_fit) + ' ' + str(w1_fit))"
   ]
  },
  {
   "cell_type": "code",
   "execution_count": 5,
   "metadata": {
    "collapsed": false,
    "slideshow": {
     "slide_type": "fragment"
    }
   },
   "outputs": [
    {
     "data": {
      "image/png": "[encoded data removed]",
      "text/plain": [
       "<matplotlib.figure.Figure at 0x11777520f60>"
      ]
     },
     "metadata": {},
     "output_type": "display_data"
    }
   ],
   "source": [
    "# plot\n",
    "%matplotlib inline\n",
    "import matplotlib.pyplot as plt\n",
    "\n",
    "plt.scatter(data[:, 0], data[:, 1], color='black', marker='o')\n",
    "\n",
    "X_endpoints = [0, 1]\n",
    "Y_truth, Y_fit = [], []\n",
    "for x in X_endpoints:\n",
    "    Y_truth.append(line.predict(x))\n",
    "    Y_fit.append(line_fit.predict(x))\n",
    "    \n",
    "plt.plot(X_endpoints, Y_truth, color='blue', label='truth')\n",
    "plt.plot(X_endpoints, Y_fit, color='red', label='predict')\n",
    "\n",
    "plt.legend(loc='best')\n",
    "plt.tight_layout()\n",
    "plt.show()"
   ]
  },
  {
   "cell_type": "markdown",
   "metadata": {
    "slideshow": {
     "slide_type": "slide"
    }
   },
   "source": [
    "# Assignmnet 2: Linear Perception\n",
    "\n",
    "This one is a bit difficult than previous one, with average score 86."
   ]
  },
  {
   "cell_type": "markdown",
   "metadata": {
    "slideshow": {
     "slide_type": "slide"
    }
   },
   "source": [
    "# Q1: Decision boundary for linear perceptron"
   ]
  },
  {
   "cell_type": "code",
   "execution_count": 6,
   "metadata": {
    "collapsed": true,
    "slideshow": {
     "slide_type": "fragment"
    }
   },
   "outputs": [],
   "source": [
    "import numpy as np\n",
    "\n",
    "\n",
    "class Perceptron(object):\n",
    "    \"\"\"Perceptron classifier.\n",
    "\n",
    "    Parameters\n",
    "    ------------\n",
    "    eta : float\n",
    "        Learning rate (between 0.0 and 1.0)\n",
    "    n_iter : int\n",
    "        Passes over the training dataset.\n",
    "\n",
    "    Attributes\n",
    "    -----------\n",
    "    w_ : 1d-array\n",
    "        Weights after fitting.\n",
    "    errors_ : list\n",
    "        Number of misclassifications in every epoch.\n",
    "\n",
    "    \"\"\"\n",
    "    def __init__(self, eta=0.01, n_iter=10):\n",
    "        self.eta = eta\n",
    "        self.n_iter = n_iter\n",
    "\n",
    "    def fit(self, X, y):\n",
    "        \"\"\"Fit training data.\n",
    "\n",
    "        Parameters\n",
    "        ----------\n",
    "        X : {array-like}, shape = [n_samples, n_features]\n",
    "            Training vectors, where n_samples is the number of samples and\n",
    "            n_features is the number of features.\n",
    "        y : array-like, shape = [n_samples]\n",
    "            Target values.\n",
    "\n",
    "        Returns\n",
    "        -------\n",
    "        self : object\n",
    "\n",
    "        \"\"\"\n",
    "        self.w_ = np.zeros(1 + X.shape[1])\n",
    "        self.errors_ = []\n",
    "\n",
    "        for _ in range(self.n_iter):\n",
    "            errors = 0\n",
    "            for xi, target in zip(X, y):\n",
    "                update = self.eta * (target - self.predict(xi))\n",
    "                self.w_[1:] += update * xi\n",
    "                self.w_[0] += update\n",
    "                errors += int(update != 0.0)\n",
    "            self.errors_.append(errors)\n",
    "        return self\n",
    "\n",
    "    def net_input(self, X):\n",
    "        \"\"\"Calculate net input\"\"\"\n",
    "        return np.dot(X, self.w_[1:]) + self.w_[0]\n",
    "\n",
    "    def predict(self, X):\n",
    "        \"\"\"Return class label after unit step\"\"\"\n",
    "        return np.where(self.net_input(X) >= 0.0, 1, -1)"
   ]
  },
  {
   "cell_type": "code",
   "execution_count": 7,
   "metadata": {
    "collapsed": false,
    "slideshow": {
     "slide_type": "fragment"
    }
   },
   "outputs": [
    {
     "data": {
      "text/html": [
       "<div>\n",
       "<table border=\"1\" class=\"dataframe\">\n",
       "  <thead>\n",
       "    <tr style=\"text-align: right;\">\n",
       "      <th></th>\n",
       "      <th>0</th>\n",
       "      <th>1</th>\n",
       "      <th>2</th>\n",
       "      <th>3</th>\n",
       "      <th>4</th>\n",
       "    </tr>\n",
       "  </thead>\n",
       "  <tbody>\n",
       "    <tr>\n",
       "      <th>145</th>\n",
       "      <td>6.7</td>\n",
       "      <td>3.0</td>\n",
       "      <td>5.2</td>\n",
       "      <td>2.3</td>\n",
       "      <td>Iris-virginica</td>\n",
       "    </tr>\n",
       "    <tr>\n",
       "      <th>146</th>\n",
       "      <td>6.3</td>\n",
       "      <td>2.5</td>\n",
       "      <td>5.0</td>\n",
       "      <td>1.9</td>\n",
       "      <td>Iris-virginica</td>\n",
       "    </tr>\n",
       "    <tr>\n",
       "      <th>147</th>\n",
       "      <td>6.5</td>\n",
       "      <td>3.0</td>\n",
       "      <td>5.2</td>\n",
       "      <td>2.0</td>\n",
       "      <td>Iris-virginica</td>\n",
       "    </tr>\n",
       "    <tr>\n",
       "      <th>148</th>\n",
       "      <td>6.2</td>\n",
       "      <td>3.4</td>\n",
       "      <td>5.4</td>\n",
       "      <td>2.3</td>\n",
       "      <td>Iris-virginica</td>\n",
       "    </tr>\n",
       "    <tr>\n",
       "      <th>149</th>\n",
       "      <td>5.9</td>\n",
       "      <td>3.0</td>\n",
       "      <td>5.1</td>\n",
       "      <td>1.8</td>\n",
       "      <td>Iris-virginica</td>\n",
       "    </tr>\n",
       "  </tbody>\n",
       "</table>\n",
       "</div>"
      ],
      "text/plain": [
       "       0    1    2    3               4\n",
       "145  6.7  3.0  5.2  2.3  Iris-virginica\n",
       "146  6.3  2.5  5.0  1.9  Iris-virginica\n",
       "147  6.5  3.0  5.2  2.0  Iris-virginica\n",
       "148  6.2  3.4  5.4  2.3  Iris-virginica\n",
       "149  5.9  3.0  5.1  1.8  Iris-virginica"
      ]
     },
     "execution_count": 7,
     "metadata": {},
     "output_type": "execute_result"
    }
   ],
   "source": [
    "import pandas as pd\n",
    "\n",
    "#data_src = '../datasets/iris/iris.data'\n",
    "data_src = 'https://archive.ics.uci.edu/ml/machine-learning-databases/iris/iris.data'\n",
    "\n",
    "df = pd.read_csv(data_src, header=None)\n",
    "\n",
    "df.tail()"
   ]
  },
  {
   "cell_type": "code",
   "execution_count": 8,
   "metadata": {
    "collapsed": false,
    "slideshow": {
     "slide_type": "fragment"
    }
   },
   "outputs": [
    {
     "data": {
      "image/png": "[encoded data removed]",
      "text/plain": [
       "<matplotlib.figure.Figure at 0x1177751e048>"
      ]
     },
     "metadata": {},
     "output_type": "display_data"
    }
   ],
   "source": [
    "%matplotlib inline\n",
    "import matplotlib.pyplot as plt\n",
    "import numpy as np\n",
    "\n",
    "# select setosa and versicolor\n",
    "y = df.iloc[0:100, 4].values\n",
    "y = np.where(y == 'Iris-setosa', -1, 1)\n",
    "\n",
    "# extract sepal length and petal length\n",
    "X = df.iloc[0:100, [0, 2]].values\n",
    "\n",
    "# plot data\n",
    "plt.scatter(X[:50, 0], X[:50, 1],\n",
    "            color='red', marker='o', label='setosa')\n",
    "plt.scatter(X[50:100, 0], X[50:100, 1],\n",
    "            color='blue', marker='x', label='versicolor')\n",
    "\n",
    "plt.xlabel('sepal length [cm]')\n",
    "plt.ylabel('petal length [cm]')\n",
    "plt.legend(loc='upper left')\n",
    "\n",
    "plt.tight_layout()\n",
    "plt.show()"
   ]
  },
  {
   "cell_type": "code",
   "execution_count": 9,
   "metadata": {
    "collapsed": true,
    "slideshow": {
     "slide_type": "fragment"
    }
   },
   "outputs": [],
   "source": [
    "ppn = Perceptron(eta=0.1, n_iter=10)\n",
    "\n",
    "ppn = ppn.fit(X, y)"
   ]
  },
  {
   "cell_type": "code",
   "execution_count": 10,
   "metadata": {
    "collapsed": true,
    "slideshow": {
     "slide_type": "fragment"
    }
   },
   "outputs": [],
   "source": [
    "from matplotlib.colors import ListedColormap\n",
    "\n",
    "def plot_decision_regions(X, y, classifier, resolution=0.01):\n",
    "\n",
    "    # setup marker generator and color map\n",
    "    markers = ('s', 'x', 'o', '^', 'v')\n",
    "    colors = ('red', 'blue', 'lightgreen', 'gray', 'cyan')\n",
    "    cmap = ListedColormap(colors[:len(np.unique(y))])\n",
    "\n",
    "    # plot the decision surface\n",
    "    x1_min, x1_max = X[:, 0].min() - 1, X[:, 0].max() + 1\n",
    "    x2_min, x2_max = X[:, 1].min() - 1, X[:, 1].max() + 1\n",
    "    xx1, xx2 = np.meshgrid(np.arange(x1_min, x1_max, resolution),\n",
    "                           np.arange(x2_min, x2_max, resolution))\n",
    "    Z = classifier.predict(np.array([xx1.ravel(), xx2.ravel()]).T)\n",
    "    Z = Z.reshape(xx1.shape)\n",
    "    plt.contourf(xx1, xx2, Z, alpha=0.4, cmap=cmap)\n",
    "    plt.xlim(xx1.min(), xx1.max())\n",
    "    plt.ylim(xx2.min(), xx2.max())\n",
    "\n",
    "    # plot class samples\n",
    "    for idx, cl in enumerate(np.unique(y)):\n",
    "        plt.scatter(x=X[y == cl, 0], y=X[y == cl, 1],\n",
    "                    alpha=0.8, c=cmap(idx),\n",
    "                    marker=markers[idx], label=cl)"
   ]
  },
  {
   "cell_type": "markdown",
   "metadata": {
    "slideshow": {
     "slide_type": "fragment"
    }
   },
   "source": [
    "Decision boundary, $wx^T = 0$. i.e.\n",
    "$$\n",
    "    w_{0} + w_{1}x_{1} + w_{2}x_{2} = 0\n",
    "$$\n",
    "So, we could write x2_interval in terms of x1_interval:\n",
    "$$\n",
    "    x_{2} = \\frac{ -(w_{0} + w_{1}x_{1}) }{ w_{2} }\n",
    "$$"
   ]
  },
  {
   "cell_type": "code",
   "execution_count": 11,
   "metadata": {
    "collapsed": true,
    "slideshow": {
     "slide_type": "fragment"
    }
   },
   "outputs": [],
   "source": [
    "#Implement function plot_decision_boundary below to analytically compute and plot the decision boundary.\n",
    "\n",
    "# Analytically computation\n",
    "# Based on the relationship: w[0] + w[1]*x1 + w[2]*x2 = 0 \n",
    "\n",
    "def plot_decision_boundary(X, y, classifier):    \n",
    "    x1_interval = [X[:, 0].min() - 1, X[:, 0].max() + 1]\n",
    "    w = classifier.w_;\n",
    "    x2_interval = [-(w[0]+w[1]*x1_interval[0])/w[2], -(w[0]+w[1]*x1_interval[1])/w[2]]\n",
    "    \n",
    "    plt.plot(x1_interval, x2_interval, color='green', linewidth=4, label='boundary')"
   ]
  },
  {
   "cell_type": "code",
   "execution_count": 12,
   "metadata": {
    "collapsed": false,
    "slideshow": {
     "slide_type": "fragment"
    }
   },
   "outputs": [
    {
     "data": {
      "image/png": "[encoded data removed]",
      "text/plain": [
       "<matplotlib.figure.Figure at 0x1177afda208>"
      ]
     },
     "metadata": {},
     "output_type": "display_data"
    }
   ],
   "source": [
    "low_res = 0.1 # intentional for this exercise\n",
    "plot_decision_regions(X, y, classifier=ppn, resolution=low_res)\n",
    "plot_decision_boundary(X, y, classifier=ppn)\n",
    "\n",
    "plt.xlabel('sepal length [cm]')\n",
    "plt.ylabel('petal length [cm]')\n",
    "plt.legend(loc='upper left')\n",
    "\n",
    "plt.tight_layout()\n",
    "plt.show()"
   ]
  },
  {
   "cell_type": "markdown",
   "metadata": {
    "slideshow": {
     "slide_type": "slide"
    }
   },
   "source": [
    "# Q2: Implement partial_fit\n",
    "We are going to do that for this exercise to study the behavior of stochastic gradient descent."
   ]
  },
  {
   "cell_type": "code",
   "execution_count": 13,
   "metadata": {
    "collapsed": true,
    "slideshow": {
     "slide_type": "fragment"
    }
   },
   "outputs": [],
   "source": [
    "from numpy.random import seed\n",
    "\n",
    "class AdalineSGD(object):\n",
    "    \"\"\"ADAptive LInear NEuron classifier.\n",
    "\n",
    "    Parameters\n",
    "    ------------\n",
    "    eta : float\n",
    "        Learning rate (between 0.0 and 1.0)\n",
    "    n_iter : int\n",
    "        Passes over the training dataset.\n",
    "\n",
    "    Attributes\n",
    "    -----------\n",
    "    w_ : 1d-array\n",
    "        Weights after fitting.\n",
    "    errors_ : list\n",
    "        Number of misclassifications in every epoch.\n",
    "    shuffle : bool (default: True)\n",
    "        Shuffles training data every epoch if True to prevent cycles.\n",
    "    random_state : int (default: None)\n",
    "        Set random state for shuffling and initializing the weights.\n",
    "        \n",
    "    \"\"\"\n",
    "    def __init__(self, eta=0.01, n_iter=10, shuffle=True, random_state=None):\n",
    "        self.eta = eta\n",
    "        self.n_iter = n_iter\n",
    "        self.w_initialized = False\n",
    "        self.shuffle = shuffle\n",
    "        if random_state:\n",
    "            seed(random_state)\n",
    "        \n",
    "    def fit(self, X, y):\n",
    "        \"\"\" Fit training data.\n",
    "\n",
    "        Parameters\n",
    "        ----------\n",
    "        X : {array-like}, shape = [n_samples, n_features]\n",
    "            Training vectors, where n_samples is the number of samples and\n",
    "            n_features is the number of features.\n",
    "        y : array-like, shape = [n_samples]\n",
    "            Target values.\n",
    "\n",
    "        Returns\n",
    "        -------\n",
    "        self : object\n",
    "\n",
    "        \"\"\"\n",
    "        self._initialize_weights(X.shape[1])\n",
    "        self.cost_ = []\n",
    "        for i in range(self.n_iter):\n",
    "            if self.shuffle:\n",
    "                X, y = self._shuffle(X, y)\n",
    "            cost = []\n",
    "            for xi, target in zip(X, y):\n",
    "                cost.append(self._update_weights(xi, target))\n",
    "            avg_cost = sum(cost) / len(y)\n",
    "            self.cost_.append(avg_cost)\n",
    "        return self\n",
    "\n",
    "    def partial_fit(self, X, y):\n",
    "        \"\"\"Fit training data without reinitializing the weights\"\"\"\n",
    "        if not self.w_initialized:\n",
    "            self._initialize_weights(X.shape[1])\n",
    "            self.cost_=[]\n",
    "            \n",
    "        \"\"\"\n",
    "        The if condition and for loop was deleted, because the gradient is \n",
    "        calculated using the whole minibatch, instead of using a for loop to\n",
    "        calculated the gradients for individual samples.\n",
    "        \"\"\"\n",
    "        self.cost_.append(self._update_weights(X, y))\n",
    "        return self\n",
    "    \n",
    "    def partial_fit_each(self, X, y):\n",
    "        \"\"\"Fit training data without reinitializing the weights\"\"\"\n",
    "        if not self.w_initialized:\n",
    "            self._initialize_weights(X.shape[1])\n",
    "            self.cost_=[]\n",
    "            \n",
    "        self.cost_.append(self._update_weights_each(X, y))\n",
    "        return self\n",
    "\n",
    "    def _shuffle(self, X, y):\n",
    "        \"\"\"Shuffle training data\"\"\"\n",
    "        r = np.random.permutation(len(y))\n",
    "        return X[r], y[r]\n",
    "    \n",
    "    def _initialize_weights(self, m):\n",
    "        \"\"\"Initialize weights to zeros\"\"\"\n",
    "        self.w_ = np.zeros(1 + m)\n",
    "        self.w_initialized = True\n",
    "        \n",
    "    def _update_weights(self, X, target):\n",
    "        \"\"\"Apply Adaline learning rule to update the weights\"\"\"\n",
    "        output = self.net_input(X)\n",
    "        error = (target - output)\n",
    "        #minibatch updating\n",
    "        self.w_[1:] += self.eta * X.T.dot(error) \n",
    "        self.w_[0] += self.eta * sum(error)\n",
    "        cost = 0.5 * np.mean(error**2)\n",
    "        return cost\n",
    "    \n",
    "    def _update_weights_each(self, X, target):\n",
    "        cost = 0\n",
    "        \n",
    "        #update for each sample\n",
    "        for xi, yi in zip(X, target):\n",
    "            output = self.net_input(xi)\n",
    "            error = (yi - output)\n",
    "            self.w_[1:] += self.eta * xi.dot(error)\n",
    "            self.w_[0] += self.eta * error\n",
    "            cost += 0.5 * error**2\n",
    "            \n",
    "        return cost/len(target)\n",
    "    \n",
    "    def net_input(self, X):\n",
    "        \"\"\"Calculate net input\"\"\"\n",
    "        return np.dot(X, self.w_[1:]) + self.w_[0]\n",
    "\n",
    "    def activation(self, X):\n",
    "        \"\"\"Compute linear activation\"\"\"\n",
    "        return self.net_input(X)\n",
    "\n",
    "    def predict(self, X):\n",
    "        \"\"\"Return class label after unit step\"\"\"\n",
    "        return np.where(self.activation(X) >= 0.0, 1, -1)"
   ]
  },
  {
   "cell_type": "code",
   "execution_count": 14,
   "metadata": {
    "collapsed": false,
    "slideshow": {
     "slide_type": "fragment"
    }
   },
   "outputs": [],
   "source": [
    "# standardize features\n",
    "X_std = np.copy(X)\n",
    "X_std[:, 0] = (X[:, 0] - X[:, 0].mean()) / X[:, 0].std()\n",
    "X_std[:, 1] = (X[:, 1] - X[:, 1].mean()) / X[:, 1].std()"
   ]
  },
  {
   "cell_type": "markdown",
   "metadata": {
    "slideshow": {
     "slide_type": "slide"
    }
   },
   "source": [
    "# Mini-batch updating\n",
    "Instead of incrementally update the weights for each sample within a mini batch, weights should be updated at the end of mini batch.\n",
    "If not, the updating policy will be the same with a mini-batch size of 1, which is the case of traditional SGD.\n",
    "Therefore, we need to change the _update_weights function so that the weights are updated at the end of the mini-batch."
   ]
  },
  {
   "cell_type": "code",
   "execution_count": 15,
   "metadata": {
    "collapsed": false,
    "slideshow": {
     "slide_type": "fragment"
    }
   },
   "outputs": [
    {
     "data": {
      "image/png": "[encoded data removed]",
      "text/plain": [
       "<matplotlib.figure.Figure at 0x11779fd76d8>"
      ]
     },
     "metadata": {},
     "output_type": "display_data"
    }
   ],
   "source": [
    "iterations = 15\n",
    "\n",
    "# Change batch_sizes for observation\n",
    "batch_sizes = [1, 5, 10, 20, 50, 100]\n",
    "#batch_sizes = [1, 100]\n",
    "#batch_sizes = [10, 100]\n",
    "#batch_sizes = [50 ,100]\n",
    "\n",
    "for batch_size in batch_sizes:\n",
    "    ada = AdalineSGD(n_iter=0, eta=0.01, random_state=1)\n",
    "    for iteration in range(iterations):\n",
    "        num_batches = np.ceil(y.ravel().shape[0]/batch_size).astype(int)\n",
    "        for batch_index in range(num_batches):\n",
    "            start_index = batch_index*batch_size\n",
    "            end_index = start_index + batch_size\n",
    "            ada.partial_fit(X_std[start_index:end_index, :], y[start_index:end_index])\n",
    "    plt.plot([batch_size * x for x in range(1, len(ada.cost_) + 1)], ada.cost_, label=str(batch_size))\n",
    "\n",
    "if len(batch_sizes) > 0: \n",
    "    plt.xlabel('# trained samples')\n",
    "    plt.ylabel('Average Cost')\n",
    "    plt.legend(loc='best')\n",
    "\n",
    "    plt.tight_layout()\n",
    "    plt.show()"
   ]
  },
  {
   "cell_type": "markdown",
   "metadata": {
    "slideshow": {
     "slide_type": "fragment"
    }
   },
   "source": [
    "# *Common mistake #1* \n",
    "## Update for each sample"
   ]
  },
  {
   "cell_type": "code",
   "execution_count": 16,
   "metadata": {
    "collapsed": false,
    "slideshow": {
     "slide_type": "fragment"
    }
   },
   "outputs": [
    {
     "data": {
      "image/png": "[encoded data removed]",
      "text/plain": [
       "<matplotlib.figure.Figure at 0x1177b010668>"
      ]
     },
     "metadata": {},
     "output_type": "display_data"
    }
   ],
   "source": [
    "iterations = 15\n",
    "\n",
    "# Change batch_sizes for observation\n",
    "batch_sizes = [1, 5, 10, 20, 50, 100]\n",
    "#batch_sizes = [1, 100]\n",
    "#batch_sizes = [10, 100]\n",
    "#batch_sizes = [50 ,100]\n",
    "\n",
    "for batch_size in batch_sizes:\n",
    "    ada = AdalineSGD(n_iter=0, eta=0.01, random_state=1)\n",
    "    for iteration in range(iterations):\n",
    "        num_batches = np.ceil(y.ravel().shape[0]/batch_size).astype(int)\n",
    "        for batch_index in range(num_batches):\n",
    "            start_index = batch_index*batch_size\n",
    "            end_index = start_index + batch_size\n",
    "            ada.partial_fit_each(X_std[start_index:end_index, :], y[start_index:end_index])\n",
    "    plt.plot([batch_size * x for x in range(1, len(ada.cost_) + 1)], ada.cost_, label=str(batch_size))\n",
    "\n",
    "if len(batch_sizes) > 0: \n",
    "    plt.xlabel('# trained samples')\n",
    "    plt.ylabel('Average Cost')\n",
    "    plt.legend(loc='best')\n",
    "\n",
    "    plt.tight_layout()\n",
    "    plt.show()"
   ]
  },
  {
   "cell_type": "markdown",
   "metadata": {
    "slideshow": {
     "slide_type": "fragment"
    }
   },
   "source": [
    "What differences do you notice between the two versions of the graph\n",
    "* mini-batch update versus per-sample update\n",
    "\n",
    "What explains the different curves for different mini-batch sizes?"
   ]
  },
  {
   "cell_type": "markdown",
   "metadata": {
    "slideshow": {
     "slide_type": "fragment"
    }
   },
   "source": [
    "# *Common mistake #2* \n",
    "## Concept misunderstanding\n",
    "Quite some students transforms the concept \"weights should be updated at the end of mini batch\" to \"update the weights only for the *last* elements in the batch\"."
   ]
  },
  {
   "cell_type": "code",
   "execution_count": null,
   "metadata": {
    "collapsed": true,
    "slideshow": {
     "slide_type": "fragment"
    }
   },
   "outputs": [],
   "source": [
    "# which bring code to be like this\n",
    "\n",
    "for xi, target in zip(X, y):\n",
    "    output = self.net_input(xi)\n",
    "    error = (target - output)\n",
    "    cost.append(0.5 * error**2)\n",
    "    \n",
    "#only update for the *last* sample\n",
    "self._update_weights(X[-1], y[-1])\n",
    "\n",
    "avg_cost = sum(cost) / len(y)\n",
    "self.cost_.append(avg_cost) \n"
   ]
  },
  {
   "cell_type": "markdown",
   "metadata": {
    "slideshow": {
     "slide_type": "fragment"
    }
   },
   "source": [
    "# Observation\n",
    "<p>1. For a specific batch size, as number of train examples increases, the avaerage cost decreases, as the model is refined during the training process.</p>\n",
    "\n",
    "<p>2. For smaller batch sizes, like 1, 5, 10, 20, the average costs tend to change rapidly at the begining, and keeps fluctuating when the number of examples increase. In contrast, for larger batch sizes like 50, 100, as it contains for samples for updating, the curves are relatively smooth and fluctuate less. </p>"
   ]
  },
  {
   "cell_type": "markdown",
   "metadata": {
    "slideshow": {
     "slide_type": "slide"
    }
   },
   "source": [
    "# Hints for Assignment 3: Basic Classifiers"
   ]
  },
  {
   "cell_type": "markdown",
   "metadata": {
    "slideshow": {
     "slide_type": "slide"
    }
   },
   "source": [
    "# Q1: RBF Kernel\n",
    "## Taylor series expansion\n",
    "\n",
    "$$\n",
    "e^\\frac{-|\\mathbf{x} - \\mathbf{y}|^2}{2} = ?\n",
    "$$\n",
    "\n",
    "Recall (from calculus) that the Taylor series expansion of the exp function is:\n",
    "$$\n",
    "e^z = \\sum_{k=0}^\\infty \\frac{z^k}{k!}\n",
    "$$\n",
    "\n",
    "[Wiki: Taylor series](https://en.wikipedia.org/wiki/Taylor_series)"
   ]
  },
  {
   "cell_type": "markdown",
   "metadata": {
    "slideshow": {
     "slide_type": "fragment"
    }
   },
   "source": [
    "### Polynomial kernel of degree $q$\n",
    "$\n",
    "K\\left(\\mathbf{x}, \\mathbf{y}\\right) =\n",
    "(\\mathbf{x}^T\\mathbf{y} + 1)^q\n",
    "$\n",
    "\n",
    "Example for $d=2$ and $q=2$\n",
    "$$\n",
    "\\begin{align}\n",
    "K\\left(\\mathbf{x}, \\mathbf{y}\\right) &= \\left( x_1y_1 + x_2y_2 + 1 \\right)^2 \\\\\n",
    "&= 1 + 2x_1y_1 + 2x_2y_2 + 2x_1x_2y_1y_2 + x_1^2y_1^2 + x_2^2y_2^2 \n",
    "\\end{align}\n",
    "$$\n",
    ", which corresponds to the following kernel function:\n",
    "$$\n",
    "\\phi(x, y) = \\left[1, \\sqrt{2}x, \\sqrt{2}y, \\sqrt{2}xy, x^2, y^2 \\right]^T\n",
    "$$\n",
    "\n",
    "<font color = 'blue'>\n",
    "For this question, find $\\phi$ for the RBF kernel.\n",
    "</font>"
   ]
  },
  {
   "cell_type": "markdown",
   "metadata": {
    "slideshow": {
     "slide_type": "slide"
    }
   },
   "source": [
    "# Q2: Kernel SVM complexity\n",
    "\n",
    "Complexity of kernel SVM depends on the choice of kernel, in this question, you could just give an approximate description for the complexity analysis for each type.\n",
    "\n",
    "For example, what kind of output space would each type of kernel project to? And thus how would the parameter complexity (number of parameters) relate to it?"
   ]
  },
  {
   "cell_type": "markdown",
   "metadata": {
    "collapsed": true,
    "slideshow": {
     "slide_type": "fragment"
    }
   },
   "source": [
    "## Reading week\n",
    "\n",
    "The following might help:\n",
    "* the corresponding book chapters\n",
    "* the [parametric versus non-parametric models](http://nbviewer.jupyter.org/github/1iyiwei/pyml/blob/master/code/ch03/ch03.ipynb#Parametric-versus-non-parametric-models) part of the slides\n"
   ]
  },
  {
   "cell_type": "markdown",
   "metadata": {
    "slideshow": {
     "slide_type": "slide"
    }
   },
   "source": [
    "# Q3: Gaussian density Bayes\n",
    "\n",
    "Hint: Maximize $\\exp(f)\\exp(g)$ is equivalent to maximize which form?"
   ]
  },
  {
   "cell_type": "markdown",
   "metadata": {
    "slideshow": {
     "slide_type": "fragment"
    }
   },
   "source": [
    "<font color = 'blue'>\n",
    "Please provide sufficient derivation steps in your answer so that we can know you did not simply copy the final math formulas from the textbooks/slides.\n",
    "</font>"
   ]
  },
  {
   "cell_type": "markdown",
   "metadata": {
    "slideshow": {
     "slide_type": "slide"
    }
   },
   "source": [
    "# Q4: Applied different scikit-learn classifers for hand-written digits\n"
   ]
  },
  {
   "cell_type": "markdown",
   "metadata": {
    "slideshow": {
     "slide_type": "fragment"
    }
   },
   "source": [
    "# How to use scikit-learn to do various stuff"
   ]
  },
  {
   "cell_type": "markdown",
   "metadata": {
    "slideshow": {
     "slide_type": "fragment"
    }
   },
   "source": [
    "# Load data"
   ]
  },
  {
   "cell_type": "code",
   "execution_count": 17,
   "metadata": {
    "collapsed": false,
    "slideshow": {
     "slide_type": "fragment"
    }
   },
   "outputs": [
    {
     "name": "stdout",
     "output_type": "stream",
     "text": [
      "(1797, 64)\n",
      "1797\n",
      "64\n",
      "(1797,)\n"
     ]
    }
   ],
   "source": [
    "from sklearn.datasets import load_digits\n",
    "digits = load_digits()\n",
    "\n",
    "#data and label\n",
    "X = digits.data \n",
    "y = digits.target\n",
    "\n",
    "print(X.shape)\n",
    "print(X.shape[0])\n",
    "print(X.shape[1])\n",
    "print(y.shape)"
   ]
  },
  {
   "cell_type": "markdown",
   "metadata": {
    "slideshow": {
     "slide_type": "fragment"
    }
   },
   "source": [
    "# Visualize data"
   ]
  },
  {
   "cell_type": "code",
   "execution_count": 18,
   "metadata": {
    "collapsed": false,
    "scrolled": true,
    "slideshow": {
     "slide_type": "fragment"
    }
   },
   "outputs": [
    {
     "data": {
      "text/plain": [
       "<matplotlib.figure.Figure at 0x1177af8a978>"
      ]
     },
     "metadata": {},
     "output_type": "display_data"
    },
    {
     "data": {
      "image/png": "[encoded data removed]",
      "text/plain": [
       "<matplotlib.figure.Figure at 0x1177b0146d8>"
      ]
     },
     "metadata": {},
     "output_type": "display_data"
    }
   ],
   "source": [
    "import pylab as pl\n",
    "\n",
    "index = 8\n",
    "pl.gray()\n",
    "pl.matshow(digits.images[index])\n",
    "pl.title('digit ' + str(digits.target[index]))\n",
    "pl.show()"
   ]
  },
  {
   "cell_type": "code",
   "execution_count": 19,
   "metadata": {
    "collapsed": false,
    "slideshow": {
     "slide_type": "fragment"
    }
   },
   "outputs": [
    {
     "data": {
      "image/png": "[encoded data removed]",
      "text/plain": [
       "<matplotlib.figure.Figure at 0x1177c8d17f0>"
      ]
     },
     "metadata": {},
     "output_type": "display_data"
    }
   ],
   "source": [
    "import matplotlib.pyplot as plt\n",
    "import pylab as pl\n",
    "\n",
    "num_rows = 4\n",
    "num_cols = 5\n",
    "\n",
    "fig, ax = plt.subplots(nrows=num_rows, ncols=num_cols, sharex=True, sharey=True)\n",
    "ax = ax.flatten()\n",
    "for index in range(num_rows*num_cols):\n",
    "    img = digits.images[index]\n",
    "    label = digits.target[index]\n",
    "    ax[index].imshow(img, cmap='Greys', interpolation='nearest')\n",
    "    ax[index].set_title('digit ' + str(label))\n",
    "\n",
    "ax[0].set_xticks([])\n",
    "ax[0].set_yticks([])\n",
    "plt.tight_layout()\n",
    "plt.show()"
   ]
  },
  {
   "cell_type": "markdown",
   "metadata": {
    "slideshow": {
     "slide_type": "fragment"
    }
   },
   "source": [
    "# Data/Feature scaling\n",
    "\n",
    "Do we need to do some data/feature scaling, i.e. normalizing the data so that each value falls within 0 to 1?\n",
    "\n",
    "Hint: When doing SVM experiments, try different kernels, to see the accuary difference with and without data normalization, and think about what cause the difference if any."
   ]
  },
  {
   "cell_type": "markdown",
   "metadata": {
    "slideshow": {
     "slide_type": "fragment"
    }
   },
   "source": [
    "# Here I show a concrete example on how to use scikit-learn and look up the documentation.\n"
   ]
  },
  {
   "cell_type": "markdown",
   "metadata": {
    "slideshow": {
     "slide_type": "fragment"
    }
   },
   "source": [
    "[Scikit-Learn-Perceptron](http://scikit-learn.org/stable/modules/generated/sklearn.linear_model.Perceptron.html#sklearn.linear_model.Perceptron_)\n",
    "\n",
    "And the approach applies to all other classifiers."
   ]
  },
  {
   "cell_type": "markdown",
   "metadata": {
    "slideshow": {
     "slide_type": "fragment"
    }
   },
   "source": [
    "# Deadline for Assignment 3: Wednesday October 19 11:55 PM\n",
    "\n",
    "# And next week is reading week."
   ]
  }
 ],
 "metadata": {
  "anaconda-cloud": {},
  "celltoolbar": "Slideshow",
  "kernelspec": {
   "display_name": "Python [Root]",
   "language": "python",
   "name": "Python [Root]"
  },
  "language_info": {
   "codemirror_mode": {
    "name": "ipython",
    "version": 3
   },
   "file_extension": ".py",
   "mimetype": "text/x-python",
   "name": "python",
   "nbconvert_exporter": "python",
   "pygments_lexer": "ipython3",
   "version": "3.5.2"
  }
 },
 "nbformat": 4,
 "nbformat_minor": 0
}
